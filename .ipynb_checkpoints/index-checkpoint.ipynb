{
 "cells": [
  {
   "cell_type": "markdown",
   "metadata": {},
   "source": [
    "# Digital Signal Processing\n",
    "\n",
    "\n",
    "\n",
    "This collection of [jupyter](https://jupyter.org/) notebooks for the book \"Python for Signal Processing\", introduces various topics of [Digital Signal Processing](https://en.wikipedia.org/wiki/Digital_signal_processing). This book is [available as a\n",
    "blog](http://python-for-signal-processing.blogspot.com) where you can read the formatted notebooks and comment further.\n",
    "\n",
    "The theory is accompanied by computational examples written in [IPython 3](http://ipython.org/).\n",
    "\n",
    "The sources of the notebooks, as well as installation and usage instructions can be found on [GitHub](https://github.com/nishchalk/dsp_playground)."
   ]
  },
  {
   "cell_type": "markdown",
   "metadata": {},
   "source": [
    "## Table of Contents\n",
    "\n",
    "#### 1. Introduction\n",
    "* [Introduction](introduction/introduction.ipynb)\n",
    "* [Sampling_Theorem.ipynb](SP/1.%20Sampling_Theorem.ipynb)"
   ]
  },
  {
   "cell_type": "code",
   "execution_count": null,
   "metadata": {},
   "outputs": [],
   "source": []
  }
 ],
 "metadata": {
  "kernelspec": {
   "display_name": "Python 3",
   "language": "python",
   "name": "python3"
  },
  "language_info": {
   "codemirror_mode": {
    "name": "ipython",
    "version": 3
   },
   "file_extension": ".py",
   "mimetype": "text/x-python",
   "name": "python",
   "nbconvert_exporter": "python",
   "pygments_lexer": "ipython3",
   "version": "3.7.1"
  }
 },
 "nbformat": 4,
 "nbformat_minor": 2
}
