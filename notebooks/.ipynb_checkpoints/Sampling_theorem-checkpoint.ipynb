{
 "cells": [
  {
   "cell_type": "code",
   "execution_count": 7,
   "metadata": {},
   "outputs": [
    {
     "name": "stdout",
     "output_type": "stream",
     "text": [
      "Populating the interactive namespace from numpy and matplotlib\n"
     ]
    }
   ],
   "source": [
    "from ipywidgets import interact\n",
    "%pylab inline\n",
    "%matplotlib inline"
   ]
  },
  {
   "cell_type": "code",
   "execution_count": 10,
   "metadata": {},
   "outputs": [
    {
     "data": {
      "text/plain": [
       "<Figure size 432x288 with 0 Axes>"
      ]
     },
     "metadata": {},
     "output_type": "display_data"
    },
    {
     "data": {
      "application/vnd.jupyter.widget-view+json": {
       "model_id": "327aff7984094478860d679642fba370",
       "version_major": 2,
       "version_minor": 0
      },
      "text/plain": [
       "interactive(children=(IntSlider(value=5, description='l', max=10, min=1), IntSlider(value=5, description='fs',…"
      ]
     },
     "metadata": {},
     "output_type": "display_data"
    },
    {
     "data": {
      "text/plain": [
       "<function __main__.createSine(l, fs)>"
      ]
     },
     "execution_count": 10,
     "metadata": {},
     "output_type": "execute_result"
    }
   ],
   "source": [
    "%matplotlib inline\n",
    "def createSine(l, fs):\n",
    "    #Sine wave with 10 (=x) samples in one cycle\n",
    "#     fs = 10\n",
    "    f = 1/l\n",
    "\n",
    "    x = l*10\n",
    "    y = [ np.sin(2*np.pi*f * (i/fs)) for i in range(x)]\n",
    "    \n",
    "#     plt.figure()\n",
    "    print(\"Number of samples:\"+str(len(y)))\n",
    "    plt.stem(range(x),y, 'r', )\n",
    "    plt.plot(range(x), y)\n",
    "\n",
    "plt.figure()\n",
    "interact(createSine, l=(1,10), fs=(1,10))"
   ]
  },
  {
   "cell_type": "code",
   "execution_count": 11,
   "metadata": {},
   "outputs": [
    {
     "data": {
      "application/vnd.jupyter.widget-view+json": {
       "model_id": "80ce10d967984d28b03134efd3c288ff",
       "version_major": 2,
       "version_minor": 0
      },
      "text/plain": [
       "interactive(children=(IntSlider(value=5, description='l', max=10, min=1), IntSlider(value=5, description='fs',…"
      ]
     },
     "metadata": {},
     "output_type": "display_data"
    },
    {
     "data": {
      "text/plain": [
       "<function __main__.upsample(l, fs)>"
      ]
     },
     "execution_count": 11,
     "metadata": {},
     "output_type": "execute_result"
    }
   ],
   "source": [
    "%matplotlib inline\n",
    "def upsample(l, fs):\n",
    "    #Upsampled Signal for factor-l (L)\n",
    "    f = 1/l\n",
    "\n",
    "    x = l*10\n",
    "    y = [ np.sin(2*np.pi*f * (i/fs)) for i in range(x)]\n",
    "    z=[]\n",
    "    for i in range(len(y)):\n",
    "        z = np.append(z,y[i])\n",
    "        for x in range(l-1):\n",
    "            z = np.append(z,0)\n",
    "    \n",
    "    plt.figure()\n",
    "    plt.title(\"upsample\")\n",
    "    plt.stem(range(z.size),z, 'r', )\n",
    "    plt.plot(range(z.size), z)\n",
    "    \n",
    "#     return z\n",
    "\n",
    "interact(upsample, l=(1,10), fs=(1,10))"
   ]
  },
  {
   "cell_type": "code",
   "execution_count": null,
   "metadata": {},
   "outputs": [],
   "source": []
  },
  {
   "cell_type": "code",
   "execution_count": null,
   "metadata": {},
   "outputs": [],
   "source": []
  }
 ],
 "metadata": {
  "kernelspec": {
   "display_name": "Python 3",
   "language": "python",
   "name": "python3"
  },
  "language_info": {
   "codemirror_mode": {
    "name": "ipython",
    "version": 3
   },
   "file_extension": ".py",
   "mimetype": "text/x-python",
   "name": "python",
   "nbconvert_exporter": "python",
   "pygments_lexer": "ipython3",
   "version": "3.7.1"
  }
 },
 "nbformat": 4,
 "nbformat_minor": 2
}
