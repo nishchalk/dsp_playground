{
 "cells": [
  {
   "cell_type": "markdown",
   "metadata": {},
   "source": [
    "Introduction\n",
    "--------------\n",
    "\n",
    "In this section, we consider the very important problem of resolving two nearby frequencies using the DFT. This spectral analysis problem is one of the cornerstone problems in signal processing and we therefore highlight some nuances. We also investigate the circular convolution as a tool to uncover the mechanics of frequency resolution as the uncertainty principle emerges again."
   ]
  },
  {
   "cell_type": "code",
   "execution_count": 1,
   "metadata": {},
   "outputs": [
    {
     "name": "stdout",
     "output_type": "stream",
     "text": [
      "Populating the interactive namespace from numpy and matplotlib\n"
     ]
    }
   ],
   "source": [
    "from ipywidgets import interact\n",
    "%pylab inline"
   ]
  },
  {
   "cell_type": "code",
   "execution_count": 2,
   "metadata": {},
   "outputs": [
    {
     "data": {
      "application/vnd.jupyter.widget-view+json": {
       "model_id": "ee0682a71e804376afe180219e1c3f64",
       "version_major": 2,
       "version_minor": 0
      },
      "text/plain": [
       "interactive(children=(IntSlider(value=64, description='dft_size'), IntSlider(value=64, description='sampling_f…"
      ]
     },
     "metadata": {},
     "output_type": "display_data"
    },
    {
     "data": {
      "text/plain": [
       "<function __main__.dft(dft_size=64, sampling_frequency=64, signal_frequency=10, deltaf=0.5)>"
      ]
     },
     "execution_count": 2,
     "metadata": {},
     "output_type": "execute_result"
    }
   ],
   "source": [
    "from __future__ import  division\n",
    "\n",
    "def dft(dft_size=64, sampling_frequency=64, signal_frequency=10, deltaf=1/2):\n",
    "    Nf = dft_size # N- DFT size\n",
    "    fs = sampling_frequency # sampling frequency\n",
    "    f = signal_frequency  # one signal\n",
    "    t = arange(0,1,1/fs) # time-domain samples\n",
    "#     deltaf = 1/2. # second nearby frequency\n",
    "\n",
    "    fig,ax = subplots(2,1,sharex=True,sharey=True)\n",
    "    fig.set_size_inches((8,3))\n",
    "\n",
    "    x=cos(2*pi*f*t) + cos(2*pi*(f+2)*t) # 2 Hz frequency difference\n",
    "    X = fft.fft(x,Nf)/sqrt(Nf)\n",
    "    ax[0].plot(linspace(0,fs,Nf),abs(X),'-o')\n",
    "    ax[0].set_title(r'$\\delta f = 2$',fontsize=18)\n",
    "    ax[0].set_ylabel(r'$|X(k)|$',fontsize=18)\n",
    "    ax[0].grid()\n",
    "\n",
    "    x=cos(2*pi*f*t) + cos(2*pi*(f+deltaf)*t) # delta_f frequency difference\n",
    "    X = fft.fft(x,Nf)/sqrt(Nf)\n",
    "    ax[1].plot(linspace(0,fs,Nf),abs(X),'-o')\n",
    "    ax[1].set_title(r'$\\delta f = $'+str(deltaf),fontsize=14)\n",
    "    ax[1].set_ylabel(r'$|X(k)|$',fontsize=18)\n",
    "    ax[1].set_xlabel('Frequency (Hz)',fontsize=18)\n",
    "    ax[1].set_xlim(xmax = fs/2)\n",
    "    ax[1].set_ylim(ymax=6)\n",
    "    ax[1].grid()\n",
    "\n",
    "    # fig.savefig('figure_00@.png', bbox_inches='tight', dpi=300)\n",
    "    \n",
    "interact(dft, dft_size=(0,100), sampling_frequency=(1,100), signal_frequency=(1,20), deltaf=(0,2,0.1))"
   ]
  },
  {
   "cell_type": "markdown",
   "metadata": {},
   "source": [
    "Seeking Better Frequency Resolution with Longer DFT\n",
    "----------------------------------------------------\n",
    "\n",
    "The top plot above shows the magnitude of the DFT for an input that is the sum of two frequencies separated by 2 Hz. Using the parameters we have chosen for the DFT, we can easily see there are two distinct frequencies in the input signal. The bottom plot shows the same thing except that here the frequencies are only separated by 0.5 Hz and, in this case, the two frequencies are not so easy to separate. From this figure, it would be difficult to conclude how many frequencies are present and at what magnitude.\n",
    "\n",
    "At this point, the usual next step is to increase the size of the DFT since the frequency resolution is $f_s/N$. Thus, the idea is to increase this resolution until the two frequencies separate. This is shown in the next figure."
   ]
  },
  {
   "cell_type": "code",
   "execution_count": 3,
   "metadata": {},
   "outputs": [
    {
     "data": {
      "application/vnd.jupyter.widget-view+json": {
       "model_id": "8ad9c245d9874f2fa3c5dffe687b3d55",
       "version_major": 2,
       "version_minor": 0
      },
      "text/plain": [
       "interactive(children=(IntSlider(value=64, description='dft_size'), IntSlider(value=64, description='sampling_f…"
      ]
     },
     "metadata": {},
     "output_type": "display_data"
    },
    {
     "data": {
      "text/plain": [
       "<function __main__.longer_dft(dft_size=64, sampling_frequency=64, signal_frequency=10, deltaf=0.5)>"
      ]
     },
     "execution_count": 3,
     "metadata": {},
     "output_type": "execute_result"
    }
   ],
   "source": [
    "def longer_dft(dft_size=64, sampling_frequency=64, signal_frequency=10, deltaf=1/2):\n",
    "    Nf = dft_size*2 # N- DFT size\n",
    "    fs = sampling_frequency # sampling frequency\n",
    "    f = signal_frequency  # one signal\n",
    "    t = arange(0,1,1/fs) # time-domain samples\n",
    "\n",
    "    fig,ax = subplots(2,1,sharex=True,sharey=True)\n",
    "    fig.set_size_inches((8,4))\n",
    "    x=cos(2*pi*f*t) + cos(2*pi*(f+deltaf)*t) # delta_f frequency difference\n",
    "    X = fft.fft(x,Nf)/sqrt(Nf)\n",
    "    ax[0].plot(linspace(0,fs,len(X)),abs(X),'-o',ms=3.)\n",
    "    ax[0].set_title(r'$N=%d$'%Nf,fontsize=18)\n",
    "    ax[0].set_ylabel(r'$|X(k)|$',fontsize=18)\n",
    "    ax[0].grid()\n",
    "\n",
    "    Nf = Nf*4\n",
    "    X = fft.fft(x,Nf)/sqrt(Nf)\n",
    "    ax[1].plot(linspace(0,fs,len(X)),abs(X),'-o',ms=3.)\n",
    "    ax[1].set_title(r'$N=%d$'%Nf,fontsize=18)\n",
    "    ax[1].set_ylabel(r'$|X(k)|$',fontsize=18)\n",
    "    ax[1].set_xlabel('Frequency (Hz)',fontsize=18)\n",
    "    ax[1].set_xlim(xmax = fs/2)\n",
    "    ax[1].set_ylim(ymax=6)\n",
    "    ax[1].grid()\n",
    "\n",
    "# fig.savefig('figure_00@.png', bbox_inches='tight', dpi=300)\n",
    "\n",
    "interact(longer_dft, dft_size=(0,100), sampling_frequency=(1,100), signal_frequency=(1,20), deltaf=(0,2,0.1))"
   ]
  },
  {
   "cell_type": "markdown",
   "metadata": {},
   "source": [
    "As the figure above shows, increasing the size of the DFT did not help matters much. Why is this? Didn't we increase the frequency resolution using a larger DFT? Why can't we separate frequencies now? \n",
    "\n",
    "The Uncertainty Principle Strikes Back\n",
    "--------------------------------------------\n",
    "\n",
    "The problem here  is a manifestation the uncertainty principle we [previously discussed](http://python-for-signal-processing.blogspot.com/2012/09/investigating-sampling-theorem-in-this.html). Remember that taking a larger DFT doesn't add anything new; it just picks off more discrete frequencies on the unit circle.  Note that we want to analyze a particular signal $x(t)$, but we have only a *finite section* of that signal. In other words, what we really have are samples of the product of $x(t),t\\in \\mathbb{R}$ and a rectangular time-window, $r(t)$, that is zero except $r(t)=1 \\Leftrightarrow t\\in[0,1]$. This means that the DFT is structured according to the rectangular window, which explains the `sinc` shapes we have seen here.\n",
    "\n",
    "The following figure shows the updated DFT using a longer duration rectangular window."
   ]
  },
  {
   "cell_type": "code",
   "execution_count": 4,
   "metadata": {},
   "outputs": [
    {
     "data": {
      "application/vnd.jupyter.widget-view+json": {
       "model_id": "b9a65ee776cd42e9a7b6efd294dc1cac",
       "version_major": 2,
       "version_minor": 0
      },
      "text/plain": [
       "interactive(children=(IntSlider(value=64, description='dft_size', max=192, min=-64), IntSlider(value=64, descr…"
      ]
     },
     "metadata": {},
     "output_type": "display_data"
    },
    {
     "data": {
      "text/plain": [
       "<function __main__.updated_longer_dft(dft_size=64, sampling_frequency=64, signal_frequency=10, deltaf=0.5)>"
      ]
     },
     "execution_count": 4,
     "metadata": {},
     "output_type": "execute_result"
    }
   ],
   "source": [
    "def updated_longer_dft(dft_size=64, sampling_frequency=64, signal_frequency=10, deltaf=1/2):\n",
    "    Nf = dft_size*2 # N- DFT size\n",
    "    fs = sampling_frequency # sampling frequency\n",
    "    f = signal_frequency  # one signal\n",
    "    t = arange(0,2,1/fs)\n",
    "    x=cos(2*pi*f*t) + cos(2*pi*(f+deltaf)*t)\n",
    "\n",
    "#     Nf = 64*2\n",
    "    fig,ax = subplots(2,1,sharex=True,sharey=True)\n",
    "    fig.set_size_inches((8,4))\n",
    "\n",
    "    X = fft.fft(x,Nf)/sqrt(Nf)\n",
    "    ax[0].plot(linspace(0,fs,len(X)),abs(X),'-o',ms=3.)\n",
    "    ax[0].set_title(r'$N=%d$'%Nf,fontsize=18)\n",
    "    ax[0].set_ylabel(r'$|X(k)|$',fontsize=18)\n",
    "    ax[0].grid()\n",
    "\n",
    "    Nf = Nf*8\n",
    "    X = fft.fft(x,Nf)/sqrt(Nf)\n",
    "    ax[1].plot(linspace(0,fs,len(X)),abs(X),'-o',ms=3.)\n",
    "    ax[1].set_title(r'$N=%d$'%Nf,fontsize=18)\n",
    "    ax[1].set_ylabel(r'$|X(k)|$',fontsize=18)\n",
    "    ax[1].set_xlabel('Frequency (Hz)',fontsize=18)\n",
    "    ax[1].set_xlim(xmax = fs/2)\n",
    "    ax[1].set_ylim(ymax=6)\n",
    "    ax[1].grid()\n",
    "\n",
    "    # fig.savefig('figure_00@.png', bbox_inches='tight', dpi=300)\n",
    "    \n",
    "interact(updated_longer_dft)"
   ]
  },
  {
   "cell_type": "markdown",
   "metadata": {},
   "source": [
    "The top plot in the figure above shows the DFT of the longer duration signal with $N=128$. The bottom plot shows the same signal with larger DFT length of $N=512$ and a clear separation between the two frequencies. Thus, as opposed to the previous case, a longer DFT *did* resolve the nearby frequencies, but it needed a longer duration signal to do it. Why is this? Consider the DFT of the rectangular windows of length $N_s$,\n",
    "\n",
    "$$ X[k] = \\frac{1}{\\sqrt N}\\sum_{n=0}^{N_s-1} \\exp\\left( \\frac{2\\pi}{N} k n \\right) $$\n",
    "\n",
    "after some re-arrangement, this reduces to\n",
    "\n",
    "\n",
    "$$ |X[k]|=\\frac{ 1}{\\sqrt N}\\left|\\frac{\\sin \\left( N_s  \\frac{2\\pi}{N} k\\right)}{\\sin \\left( \\frac{2\\pi}{N} k \\right)}\\right|$$\n",
    "\n",
    "which bears a strong resemblence to our [original](http://python-for-signal-processing.blogspot.com/2012/09/investigating-sampling-theorem-in-this.html) `sinc` function. The following figure is a plot of this function"
   ]
  },
  {
   "cell_type": "code",
   "execution_count": 22,
   "metadata": {},
   "outputs": [
    {
     "data": {
      "application/vnd.jupyter.widget-view+json": {
       "model_id": "9b77dbe9e2584bb9943c7376a7d759af",
       "version_major": 2,
       "version_minor": 0
      },
      "text/plain": [
       "interactive(children=(IntSlider(value=512, description='N', max=512, min=12, step=10), IntSlider(value=10, des…"
      ]
     },
     "metadata": {},
     "output_type": "display_data"
    },
    {
     "data": {
      "text/plain": [
       "<function __main__.rectangular_dft(N=512, Ns=10)>"
      ]
     },
     "execution_count": 22,
     "metadata": {},
     "output_type": "execute_result"
    }
   ],
   "source": [
    "def abs_sinc(k=None,N=64,Ns=32):\n",
    "    if k is None: k = arange(0,N-1)\n",
    "    y = where(k == 0, 1.0e-20, k)\n",
    "    return abs(sin( Ns*2*pi/N*y)/sin(2*pi*y/N))/sqrt(N)\n",
    "\n",
    "def rectangular_dft(N=512, Ns=10):\n",
    "    fig,ax=subplots()\n",
    "    fig.set_size_inches((8,3))\n",
    "\n",
    "    ax.plot(abs_sinc(N=N,Ns=Ns),label='duration='+str(Ns))\n",
    "    ax.plot(abs_sinc(N=N,Ns=Ns*2),label='duration='+str(2*Ns))\n",
    "    ax.set_xlabel('DFT Index',fontsize=18)\n",
    "    ax.set_ylabel(r'$|X(\\Omega_k)|$',fontsize=18)\n",
    "    ax.set_title('Rectangular Windows DFTs',fontsize=18)\n",
    "    ax.grid()\n",
    "    ax.legend(loc=0);\n",
    "\n",
    "    # fig.savefig('figure_00@.png', bbox_inches='tight', dpi=300)\n",
    "    \n",
    "interact(rectangular_dft, N=(12,512,10), Ns=(1,10))"
   ]
  },
  {
   "cell_type": "markdown",
   "metadata": {},
   "source": [
    "Note that the DFT grows taller and narrower as the  sampling duration increases (i.e. longer rectangular window).   The amplitude growth occurs because the longer window accumulates more \"energy\" than the shorter window. The length of the DFT is the same for both lines shown so only the length of the rectangular window varies. The point is that taking a longer duration rectangular window improves the frequency resolution! This fact is just the uncertainty principle at work. Looking at the `sinc` formula, the null-to-null width of the main lobe in frequency terms is the following\n",
    "\n",
    "$$ \\delta f  = 2\\frac{N}{2 N_s}  \\frac{f_s}{N} =\\frac{f_s}{N_s} $$\n",
    "\n",
    "Thus, two frequencies that differ by at least this amount should be resolvable in these plots. \n",
    "\n",
    "Thus, in our last example, we had $f_s= 64,N_s = 128 \\Rightarrow \\delta f = 1/2$ Hz and we were trying to separate two frequencies 0.5 Hz apart so we were right on the edge in this case.  I invite you to download this IPython notebook and try longer or shorter signal durations to see show these plots change. Incidentally, this where some define the notion of *frequency bin* as the DFT resolution ($ f_s/N $) divided by this minimal resolution, $ f_s/N_s $ which gives $ N_s/N $. In other words, the DFT measures frequency in discrete *bins* of minimal resolution, $ N_s/N $.\n",
    "\n",
    "However, sampling over a longer duration only helps when the signal frequencies are *stable* over the longer duration. If these frequencies drift during the longer sampling interval or otherwise become contaminated with other signals, then advanced techniques become necessary.\n",
    "\n",
    "Let's consider in detail how the DFT of the rectangular window affects resolution by considering the circular convolution.\n"
   ]
  },
  {
   "cell_type": "markdown",
   "metadata": {},
   "source": [
    "## Circular Convolution\n",
    "\n",
    "Suppose we want to compute the DFT of a product $z_n=x_n y_n$ as shown below,\n",
    "\n",
    "$$ Z_k = \\frac{1}{\\sqrt N}\\sum_{n=0}^{N-1} (x_n y_n) W_N^{n k} $$\n",
    "\n",
    "in terms of the respective DFTs of $x_n$ and $y_n$, $X_k$ and $Y_k$, respectively, where\n",
    "\n",
    "$$ x_n = \\frac{1}{\\sqrt N}\\sum_{p=0}^{N-1} X_p  W_N^{-n p} $$\n",
    "\n",
    "and\n",
    "\n",
    "$$ y_n = \\frac{1}{\\sqrt N}\\sum_{m=0}^{N-1} Y_m  W_N^{-n m} $$\n",
    "\n",
    "Then, substituting back in gives,\n",
    "\n",
    "$$Z_k = \\frac{1}{\\sqrt N} \\frac{1}{N} \\sum_{p=0}^{N-1} X_p \\sum_{m=0}^{N-1} Y_m \\sum_{n=0}^{N-1} W_N^{n k -n p - n m}$$\n",
    "\n",
    "\n",
    "The last term evaluates to\n",
    "\n",
    "$$ \\sum_{n=0}^{N-1} W_N^{n k -n p - n m} = \\frac{1-W_N^{N(k-p-m)}}{1-W_N^{k-p-m}} \\hspace{2em} = \\frac{1-e^{j2\\pi(k-p-m)}}{1-e^{j 2\\pi  (k-p-m)/N}}$$ \n",
    "\n",
    "This is zero everywhere except where $k-p-m= q N$ ($q\\in \\mathbb{Z}$) in which case it is $N$. Substituting all this back into our expression gives the *circular convolution*  usually denoted as\n",
    "\n",
    "$$ Z_k = \\frac{1}{\\sqrt N} \\sum_{p=0}^{N-1} X_p  Y_{((k-p))_N} = X_k \\otimes_N Y_k $$\n",
    "\n",
    "where the double subscripted parenthesis emphasizes the periodic nature of the index. The circular convolution tells us to compute the DFT $Z_k$ directly from the corresponding DFTs $X_k$ and $Y_k$.\n",
    "\n",
    "Let's work through an example to see this in action.   "
   ]
  },
  {
   "cell_type": "code",
   "execution_count": 23,
   "metadata": {},
   "outputs": [],
   "source": [
    "def dftmatrix(Nfft=32,N=None):\n",
    "    'construct DFT matrix'\n",
    "    k= np.arange(Nfft)\n",
    "    if N is None: N = Nfft\n",
    "    n = arange(N)\n",
    "    U = matrix(exp(1j* 2*pi/Nfft *k*n[:,None])) # use numpy broadcasting to create matrix\n",
    "    return U/sqrt(Nfft)\n",
    "\n",
    "Nf = 32 # DFT size\n",
    "U = dftmatrix(Nf,Nf)\n",
    "x = U[:,12].real # input signal\n",
    "X = U.H*x # DFT of input\n",
    "rect = ones((int(Nf/2),1)) # short rectangular window\n",
    "z = x[:int(Nf/2)] # product of rectangular window and x (i.e. chopped version of x) \n",
    "R = dftmatrix(Nf,Nf/2).H*rect # DFT of rectangular window\n",
    "Z = dftmatrix(Nf,Nf/2).H*z    # DFT of product of x_n and r_n"
   ]
  },
  {
   "cell_type": "code",
   "execution_count": 24,
   "metadata": {},
   "outputs": [
    {
     "data": {
      "image/png": "[encoded data removed]",
      "text/plain": [
       "<Figure size 864x360 with 32 Axes>"
      ]
     },
     "metadata": {
      "needs_background": "light"
     },
     "output_type": "display_data"
    }
   ],
   "source": [
    "idx=arange(Nf)-arange(Nf)[:,None] # use numpy broadcasting to setup summand's indices\n",
    "idx[idx<0]+=Nf # add periodic Nf to negative indices for wraparound\n",
    "a = arange(Nf) # k^th frequency index\n",
    "\n",
    "fig,ax = subplots(4,8,sharex=True,sharey=True)\n",
    "fig.set_size_inches((12,5))\n",
    "for i,j in enumerate(ax.flat):\n",
    "    #markerline, stemlines, baseline = j.stem(arange(Nf),abs(R[idx[:,i],0])/sqrt(Nf))\n",
    "    #setp(markerline, 'markersize', 3.)\n",
    "    j.fill_between(arange(Nf),1/sqrt(Nf)*abs(R[idx[:,i],0]).flat,0,alpha=0.3)\n",
    "    markerline, stemlines, baseline =j.stem(arange(Nf),abs(X))\n",
    "    setp(markerline, 'markersize', 4.)\n",
    "    setp(markerline,'markerfacecolor','r')\n",
    "    setp(stemlines,'color','r')\n",
    "    j.axis('off')\n",
    "    j.set_title('k=%d'%i,fontsize=8)\n",
    "    \n",
    "# fig.savefig('figure_00@.png', bbox_inches='tight', dpi=300)\n"
   ]
  },
  {
   "cell_type": "markdown",
   "metadata": {},
   "source": [
    "The figure above shows the <font color=\"Blue\">rectangular window DFT in blue, $R_k$ </font> against the sinusoid <FONT color=\"red\"> input signal in red, $X_k$, </font> for each value of $k$ as the two terms slide past each other from left to right, top to bottom. In other words, the $k^{th}$ term in $Z_k$, the DFT of the product $x_n r_n $, can be thought of as the inner-product of the red and blue lines. This is not exactly true because we are just plotting magnitudes and not the real/imaginary parts, but it's enough to understand the mechanics of the circular convolution.\n",
    "\n",
    "A good way to think about the rectangular window's `sinc` shape as it slides past the input signal is as a *probe* with a resolution defined by its mainlobe width. For example, in frame $k=12$, we see that the peak of the rectangular window coincides with the peak of the input frequency so we should expect a large value for $Z_{k=12}$ which is shown below. However, if the rectangular window were shorter, corresponding to a wider mainlobe width, then two nearby frequencies could be draped in the same mainlobe and would then be indistinguishable in the resulting DFT because the DFT for that value of $k$ is the inner-product (i.e. a complex number) of the two overlapping graphs.\n",
    "\n",
    "The figure below shows the the direct computation of the DFT of $Z_k$ matches the circular convolution method using $X_k$ and $R_k$."
   ]
  },
  {
   "cell_type": "code",
   "execution_count": 25,
   "metadata": {},
   "outputs": [
    {
     "data": {
      "image/png": "[encoded data removed]",
      "text/plain": [
       "<Figure size 504x216 with 1 Axes>"
      ]
     },
     "metadata": {
      "needs_background": "light"
     },
     "output_type": "display_data"
    }
   ],
   "source": [
    "fig,ax=subplots()\n",
    "fig.set_size_inches((7,3))\n",
    "ax.plot(a,abs(R[idx,0]*X)/sqrt(Nf), label=r'$|Z_k|$ = $X_k\\otimes_N R_k$')\n",
    "ax.plot(a, abs(Z),'o',label=r'$|Z_k|$ by DFT')\n",
    "ax.set_xlabel('DFT index,k',fontsize=18)\n",
    "ax.set_ylabel(r'$|Z_k|$',fontsize=18)\n",
    "ax.set_xticks(arange(ax.get_xticks().max()))\n",
    "ax.tick_params(labelsize=8)\n",
    "ax.legend(loc=0)\n",
    "ax.grid()\n",
    "# fig.savefig('figure_00@.png', bbox_inches='tight', dpi=300)"
   ]
  },
  {
   "cell_type": "markdown",
   "metadata": {},
   "source": [
    "## Summary"
   ]
  },
  {
   "cell_type": "markdown",
   "metadata": {},
   "source": [
    "In this section, we unpacked the issues involved in resolving two nearby frequencies using the DFT and once again confronted the uncertainty principle in action. We realized that longer DFTs cannot distinguish nearby frequencies unless the signal is sampled over a sufficient duration. Additionally, we developed the circular convolution as a tool to visualize the exactly how a longer sampling duration helps resolve frequencies.\n",
    "\n",
    "As usual, the corresponding IPython notebook for this post  is available for download [here](https://github.com/unpingco/Python-for-Signal-Processing/blob/master/Frequency_Resolution.ipynb). \n",
    "\n",
    "Comments and corrections welcome!"
   ]
  },
  {
   "cell_type": "markdown",
   "metadata": {},
   "source": [
    "References\n",
    "---------------\n",
    "\n",
    "* Oppenheim, A. V., and A. S. Willsky. \"Signals and Systems.\" Prentice-Hall, (1997).\n",
    "* Proakis, John G. \"Digital signal processing: principles algorithms and applications\". Pearson Education India, 2001."
   ]
  },
  {
   "cell_type": "code",
   "execution_count": null,
   "metadata": {},
   "outputs": [],
   "source": []
  },
  {
   "cell_type": "code",
   "execution_count": null,
   "metadata": {},
   "outputs": [],
   "source": []
  }
 ],
 "metadata": {
  "kernelspec": {
   "display_name": "Python 3",
   "language": "python",
   "name": "python3"
  },
  "language_info": {
   "codemirror_mode": {
    "name": "ipython",
    "version": 3
   },
   "file_extension": ".py",
   "mimetype": "text/x-python",
   "name": "python",
   "nbconvert_exporter": "python",
   "pygments_lexer": "ipython3",
   "version": "3.7.1"
  }
 },
 "nbformat": 4,
 "nbformat_minor": 1
}
