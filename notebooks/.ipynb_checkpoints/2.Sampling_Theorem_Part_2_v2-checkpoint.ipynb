{
 "cells": [
  {
   "cell_type": "markdown",
   "metadata": {},
   "source": [
    "We left off with the disturbing realization that even though we are satisfied the requirements of the sampling theorem, we still have errors in our approximating formula. We can resolve this by examining the Whittaker interpolating functions which are used to reconstruct the signal  from its samples."
   ]
  },
  {
   "cell_type": "code",
   "execution_count": 1,
   "metadata": {},
   "outputs": [
    {
     "name": "stdout",
     "output_type": "stream",
     "text": [
      "Populating the interactive namespace from numpy and matplotlib\n"
     ]
    }
   ],
   "source": [
    "from ipywidgets import interact\n",
    "%pylab inline"
   ]
  },
  {
   "cell_type": "code",
   "execution_count": 2,
   "metadata": {},
   "outputs": [
    {
     "data": {
      "application/vnd.jupyter.widget-view+json": {
       "model_id": "6d5033edceb24d4592d1dcbb03a1f765",
       "version_major": 2,
       "version_minor": 0
      },
      "text/plain": [
       "interactive(children=(IntSlider(value=5, description='sampling_frequency', max=10, min=1), Output()), _dom_cla…"
      ]
     },
     "metadata": {},
     "output_type": "display_data"
    },
    {
     "data": {
      "text/plain": [
       "<function __main__.wittaker(sampling_frequency=5.0)>"
      ]
     },
     "execution_count": 2,
     "metadata": {},
     "output_type": "execute_result"
    }
   ],
   "source": [
    "from __future__ import division\n",
    "\n",
    "def wittaker(sampling_frequency = 5.0):\n",
    "    t = linspace(-5,5,300) # redefine this here for convenience\n",
    "\n",
    "    fig,ax = subplots()\n",
    "\n",
    "    fs=sampling_frequency\n",
    "    ax.plot(t,sinc(fs * t))\n",
    "    ax.grid()\n",
    "    ax.annotate('This keeps going...',\n",
    "                xy=(-4,0),\n",
    "                xytext=(-5+.1,0.5),\n",
    "                arrowprops={'facecolor':'green','shrink':0.05},fontsize=14)\n",
    "    ax.annotate('... and going...',\n",
    "                xy=(4,0),\n",
    "                xytext=(3+.1,0.5),\n",
    "                arrowprops={'facecolor':'green','shrink':0.05},fontsize=14)\n",
    "\n",
    "    # fig.savefig('figure_00@.png', bbox_inches='tight', dpi=300)\n",
    "\n",
    "interact(wittaker, sampling_frequency=(1,10))"
   ]
  },
  {
   "cell_type": "markdown",
   "metadata": {},
   "source": [
    "Notice in the above plot that the function extends to infinity in either direction. This basically means that the signals we can represent must also extend to infinity in either direction which then means that we have to sample forever to exactly reconstruct the signal! So, on the one hand the sampling theorem says we only need a sparse density of samples, this result says we need to sample forever. No free lunch here!\n",
    "\n",
    "This is a deep consequence of dealing with band-limited functions which, as we have just demonstrated, are **not** time-limited. Now, the new question is how to get these signals into a computer with finite memory. How can we use what we have learned about the sampling theorem with these finite-duration signals?"
   ]
  },
  {
   "cell_type": "markdown",
   "metadata": {},
   "source": [
    "## Approximately Time-Limited Functions"
   ]
  },
  {
   "cell_type": "markdown",
   "metadata": {},
   "source": [
    "Let's back off a bit and settle for functions that are *approximately*  time-limited in the sense that almost all of their energy is concentrated in a finite time-window:\n",
    "\n",
    "$$ \\int_{-\\tau}^\\tau |f(t)|^2 dt = E-\\epsilon$$\n",
    "\n",
    "where $E$ is the total energy of the signal:\n",
    "\n",
    "$$ \\int_{-\\infty}^\\infty |f(t)|^2 dt = E$$\n",
    "\n",
    "Now, with this new definition, we can seek out functions that are band-limited but come very, very (i.e. within $\\epsilon$) close to being time-limited as well. In other words, we want functions $\\phi(t)$ so that they are band-limited:\n",
    "\n",
    "$$ \\phi(t) = \\int_{-W}^W \\Phi(\\nu) e^{2 \\pi j \\nu t} dt $$\n",
    "\n",
    "and coincidentally maximize the following:\n",
    "\n",
    "$$ \\int_{-\\tau}^\\tau |\\phi(t) |^2 dt$$\n",
    "\n",
    "After a complicated derivation,  this boils down to solving the following eigenvalue equation:\n",
    "\n",
    "$$ \\int_{-\\tau}^\\tau \\phi(x)\\frac{\\sin(2\\pi W(t-x))}{\\pi(t-x)} dx = \\lambda \\phi(t)$$\n",
    "\n",
    "The set of $\\phi_k(t)$ eigenfunctions form the basis for arbitrary\n",
    "approximately time-limited functions. In other words, we can express\n",
    "\n",
    "$$ f(t) = \\sum_k a_k \\phi_k(t) $$\n",
    "\n",
    "Note that\n",
    "the $\\phi_k(t)$ functions are not time-limited, but only time-concentrated in the $[-\\tau,\\tau]$ interval. With a change of variables, we can write this in normalized form as \n",
    "\n",
    "$$ \\int_{-1}^1 \\psi(x)\\frac{\\sin(2\\pi\\sigma(t-x)/4)}{\\pi(t-x)} dx = \\lambda \\psi(t)$$\n",
    "\n",
    "where we define$\\sigma = (2\\tau)(2W)$ as the time-bandwidth product.The advantage of this change of variables is that $\\tau$ and $W$ are expressed as a single term. Furthermore, this is the form of a classic problem where the $\\psi$ functions turn out to be the angular prolate spheroidal wave functions. Let's see what these $\\psi$ functions look like but solving this form of\n",
    "the eigenvalue problem"
   ]
  },
  {
   "cell_type": "code",
   "execution_count": 3,
   "metadata": {},
   "outputs": [],
   "source": [
    "def kernel(x,sigma=1):\n",
    "    'convenient function to compute kernel of eigenvalue problem'\n",
    "    x = np.asanyarray(x)\n",
    "    y = pi*where(x == 0,1.0e-20, x)\n",
    "    return sin(sigma/2*y)/y"
   ]
  },
  {
   "cell_type": "markdown",
   "metadata": {},
   "source": [
    "Now, we are ready to setup the eigenvalues and see how they change with the time-bandwidth product."
   ]
  },
  {
   "cell_type": "code",
   "execution_count": 4,
   "metadata": {},
   "outputs": [
    {
     "data": {
      "image/png": "[encoded data removed]",
      "text/plain": [
       "<Figure size 432x288 with 1 Axes>"
      ]
     },
     "metadata": {
      "needs_background": "light"
     },
     "output_type": "display_data"
    }
   ],
   "source": [
    "nstep=100                # quick and dirty integral quantization\n",
    "t = linspace(-1,1,nstep) # quantization of time\n",
    "dt = diff(t)[0]          # differential step size\n",
    "def eigv(sigma):\n",
    "    return eigvalsh(kernel(t-t[:,None],sigma)).max() # compute max eigenvalue\n",
    "\n",
    "sigma = linspace(0.01,4,15) # range of time-bandwidth products to consider\n",
    "\n",
    "fig,ax = subplots()\n",
    "ax.plot(sigma, dt*array([eigv(i) for i in sigma]),'-o')\n",
    "ax.set_xlabel('time-bandwidth product $\\sigma$',fontsize=14)\n",
    "ax.set_ylabel('max eigenvalue',fontsize=14)\n",
    "ax.axis(ymax=1.01)\n",
    "ax.grid()\n",
    "\n",
    "# fig.savefig('figure_00@.png', bbox_inches='tight', dpi=300)"
   ]
  },
  {
   "cell_type": "markdown",
   "metadata": {},
   "source": [
    "The largest eigenvalue is the fraction of the energy of the contained in the  interval $[-1,1]$. Thus, this means\n",
    "that for $\\sigma \\gt 3$, $\\psi_0(t)$ is the eigenfunction that is most concentrated in that interval. Now, let's look at the this  eigenfunction under those conditions."
   ]
  },
  {
   "cell_type": "code",
   "execution_count": 5,
   "metadata": {},
   "outputs": [
    {
     "data": {
      "application/vnd.jupyter.widget-view+json": {
       "model_id": "5c6b48e4880644278d31f4a5bb6823f4",
       "version_major": 2,
       "version_minor": 0
      },
      "text/plain": [
       "interactive(children=(FloatSlider(value=3.0, description='sigma', max=5.0), Output()), _dom_classes=('widget-i…"
      ]
     },
     "metadata": {},
     "output_type": "display_data"
    },
    {
     "data": {
      "text/plain": [
       "<function __main__.eigenVector(sigma=3)>"
      ]
     },
     "execution_count": 5,
     "metadata": {},
     "output_type": "execute_result"
    }
   ],
   "source": [
    "def eigenVector(sigma=3):\n",
    "    w,v=eigh(kernel(t-t[:,None],sigma))\n",
    "    maxv=v[:, w.argmax()]\n",
    "    fig,ax=subplots()\n",
    "    ax.plot(t,maxv)\n",
    "    ax.set_xlabel('time',fontsize=18)\n",
    "    ax.set_ylabel('$\\psi_0(t)$',fontsize=22)\n",
    "    ax.set_title('Eigenvector corresponding to e-value=%3.4f;$\\sigma$=%3.2f'%(w.max()*dt,sigma))\n",
    "\n",
    "    # fig.savefig('figure_00@.png', bbox_inches='tight', dpi=300)\n",
    "    \n",
    "interact(eigenVector, sigma=(0,5,0.1))"
   ]
  },
  {
   "cell_type": "markdown",
   "metadata": {},
   "source": [
    "Note that we'll see this shape again when we take up window functions.\n",
    "\n",
    "What does this all mean? By framing our problem this way, we made a connection between the quality of our reconstruction via the Whittaker interpolant and the time-bandwidth product. Up until now, we did not have a concrete way of relating limitations in time to limitations in frequency. Now that we know how to use the time-bandwidth product, let's go back to the original formulation with the separate  $\\tau$ and $W$ terms as in the following:\n",
    "\n",
    "$$ \\int_{-\\tau}^\\tau \\phi(x)\\frac{\\sin(2\\pi W (t-x))}{\\pi(t-x)} dx = \\lambda \\phi(t)$$\n",
    "\n",
    "and then re-solve the eigenvalue problem."
   ]
  },
  {
   "cell_type": "code",
   "execution_count": 16,
   "metadata": {},
   "outputs": [
    {
     "data": {
      "application/vnd.jupyter.widget-view+json": {
       "model_id": "572e4afe30e64d1982553f834579d632",
       "version_major": 2,
       "version_minor": 0
      },
      "text/plain": [
       "interactive(children=(IntSlider(value=5, description='sigma', max=10, min=1), Output()), _dom_classes=('widget…"
      ]
     },
     "metadata": {},
     "output_type": "display_data"
    },
    {
     "data": {
      "text/plain": [
       "<function __main__.eigenValue(sigma=5)>"
      ]
     },
     "execution_count": 16,
     "metadata": {},
     "output_type": "execute_result"
    }
   ],
   "source": [
    "def kernel_tau(x,W=1):\n",
    "    'convenient function to compute kernel of eigenvalue problem'\n",
    "    x = np.asanyarray(x)\n",
    "    y = pi*where(x == 0,1.0e-20, x)\n",
    "    return sin(2*W*y)/y\n",
    "\n",
    "def eigenValue(sigma=5):\n",
    "    nstep=300                # quick and dirty integral quantization\n",
    "    t = linspace(-1,1,nstep) # quantization of time\n",
    "    tt = linspace(-2,2,nstep)# extend interval\n",
    "\n",
    "#     sigma = 5\n",
    "    W = sigma/2./2./t.max()\n",
    "\n",
    "    w,v=eig(kernel_tau(t-tt[:,None],W))\n",
    "    ii = argsort(w.real) \n",
    "    maxv=v[:, w.real.argmax()].real\n",
    "    fig,ax = subplots()\n",
    "    ax.plot(tt,maxv/sign(maxv[int(nstep/2)])) # normalize to keep orientation upwards\n",
    "    ax.set_xlabel('time',fontsize=14)\n",
    "    ax.set_ylabel(r'$\\phi_{max}(t)$',fontsize=18)\n",
    "    ax.set_title('$\\sigma=%d$'%(2*W*2*t.max()),fontsize=16)\n",
    "\n",
    "    # fig.savefig('figure_00@.png', bbox_inches='tight', dpi=300)\n",
    "\n",
    "interact(eigenValue, sigma=(1,10))"
   ]
  },
  {
   "cell_type": "markdown",
   "metadata": {},
   "source": [
    "$\\DeclareMathOperator{\\sinc}{sinc}$\n",
    "\n",
    "This looks suspicously like the $\\sinc$ function. In fact, in the limit as $\\sigma \\rightarrow \\infty$, the  eigenfunctions devolve into time-shifted versions of the $\\sinc$ function. These are the same functions used in the Whittaker interpolant. Now we have a way to justify the interpolant by appealing to large $\\sigma$ values."
   ]
  },
  {
   "cell_type": "markdown",
   "metadata": {},
   "source": [
    "## Summary"
   ]
  },
  {
   "cell_type": "markdown",
   "metadata": {},
   "source": [
    "In this section, at first blush, it may look like we accomplished nothing. We started out investigating why is it that we have some residual error in the reconstruction formula using the Whittaker approximation functions. Then, we recognized that we cannot have signals that are simultaneously time-limited and band-limited. This realization drove us to investigate \"approximately\" time-limited functions. Through carefully examining the resulting eigenvalue problem, we determined the time-bandwidth conditions under which the\n",
    "Whittaker interopolant is asymptotically valid. As you can imagine, there is much more to this story and many powerful theorems place bounds on the quality and dimensionality of this reconstruction, but for us, the qualifying concept of time-bandwidth product is enough for now.\n"
   ]
  },
  {
   "cell_type": "markdown",
   "metadata": {},
   "source": [
    "## References"
   ]
  },
  {
   "cell_type": "markdown",
   "metadata": {},
   "source": [
    "\n",
    "* This is in the [IPython Notebook format](http://ipython.org/) and was converted to HTML using [nbconvert](https://github.com/ipython/nbconvert).\n",
    "\n",
    "* See [Signal analysis](http://books.google.com/books?id=Re5SAAAAMAAJ) for more detailed mathematical development.\n",
    "\n",
    "* The IPython notebook corresponding to this post can be found [here](https://github.com/unpingco/Python-for-Signal-Processing/blob/master/Sampling_Theorem_Part_2.ipynb)."
   ]
  },
  {
   "cell_type": "code",
   "execution_count": 17,
   "metadata": {},
   "outputs": [],
   "source": [
    "%qtconsole"
   ]
  },
  {
   "cell_type": "code",
   "execution_count": null,
   "metadata": {},
   "outputs": [],
   "source": []
  }
 ],
 "metadata": {
  "kernelspec": {
   "display_name": "Python 3",
   "language": "python",
   "name": "python3"
  },
  "language_info": {
   "codemirror_mode": {
    "name": "ipython",
    "version": 3
   },
   "file_extension": ".py",
   "mimetype": "text/x-python",
   "name": "python",
   "nbconvert_exporter": "python",
   "pygments_lexer": "ipython3",
   "version": "3.7.1"
  }
 },
 "nbformat": 4,
 "nbformat_minor": 1
}
