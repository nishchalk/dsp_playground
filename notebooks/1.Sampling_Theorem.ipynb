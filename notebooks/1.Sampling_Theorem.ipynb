{
 "cells": [
  {
   "cell_type": "markdown",
   "metadata": {},
   "source": [
    "# Investigating The Sampling Theorem"
   ]
  },
  {
   "cell_type": "markdown",
   "metadata": {},
   "source": [
    "In this section, we investigate the implications of the sampling theorem. Here is the usual statement of the theorem from wikipedia:\n",
    "\n",
    "*\"If a function $x(t)$ contains no frequencies higher than B hertz, it is completely determined by giving its ordinates at a series of points spaced 1/(2B) seconds apart.\"*\n",
    "\n",
    "Since a function $x(t)$ is a function from the real line to the real line, there are uncountably many points between any two ordinates, so sampling is a massive reduction of data since it only takes a tiny number of points to completely characterize the function. This is a powerful idea worth exploring. In fact, we have seen this idea of reducing a function to a discrete set of numbers before in Fourier series expansions where (for periodic $x(t)$) \n",
    "\n",
    "$ a_n = \\frac{1}{T} \\int^{T}_0 x(t) \\exp (-j \\omega_n t )dt $\n",
    "   \n",
    "\n",
    "with corresponding reconstruction as:\n",
    "\n",
    "$ x(t) = \\sum_k a_n \\exp( j \\omega_n t) $\n",
    "\n",
    "\n",
    "But here we are generating discrete points $a_n$ by integrating over the **entire** function $x(t)$, not just evaluating it at a single point. This means we are collecting information about the entire function to compute a single discrete point $a_n$, whereas with sampling we are just taking individual points in isolation.\n",
    "\n",
    "Let's come at this the other way: suppose we are given a set of samples $[x_1,x_2,..,x_N]$ and we are then told to reconstruct the function. What would we do? This is the kind of question seldom asked because we typically sample, filter, and then do something else without trying to reconstruct the function from the samples directly.\n",
    "\n",
    "Returning to our reconstruction challenge, perhaps the most natural thing to do is draw a straight line between each of the points as in linear interpolation. The next block of code takes samples of the $sin$ over a single period and draws a line between sampled ordinates."
   ]
  },
  {
   "cell_type": "code",
   "execution_count": 1,
   "metadata": {},
   "outputs": [
    {
     "name": "stdout",
     "output_type": "stream",
     "text": [
      "Populating the interactive namespace from numpy and matplotlib\n"
     ]
    }
   ],
   "source": [
    "from ipywidgets import interact\n",
    "%pylab inline"
   ]
  },
  {
   "cell_type": "code",
   "execution_count": 2,
   "metadata": {},
   "outputs": [
    {
     "data": {
      "application/vnd.jupyter.widget-view+json": {
       "model_id": "eaf4378b46ca406e9efbf85871345415",
       "version_major": 2,
       "version_minor": 0
      },
      "text/plain": [
       "interactive(children=(IntSlider(value=1, description='signal_frequency', max=10, min=1), IntSlider(value=20, d…"
      ]
     },
     "metadata": {},
     "output_type": "display_data"
    },
    {
     "data": {
      "text/plain": [
       "<function __main__.createSine(signal_frequency=1.0, sampling_rate=20.0)>"
      ]
     },
     "execution_count": 2,
     "metadata": {},
     "output_type": "execute_result"
    }
   ],
   "source": [
    "def createSine(signal_frequency=1.0, sampling_rate=20.0):\n",
    "    fig,ax = plt.subplots()\n",
    "\n",
    "    f = signal_frequency  # Hz, signal frequency\n",
    "    fs = sampling_rate # Hz, sampling rate (ie. >= 2*f) \n",
    "    t = np.arange(-1,1+1/fs,1/fs) # sample interval, symmetric for convenience later\n",
    "    x = np.sin(2*np.pi*f*t)\n",
    "    ax.plot(t,x,'o-')\n",
    "    ax.set_xlabel('time',fontsize=18)\n",
    "    ax.set_ylabel('amplitude',fontsize=18)\n",
    "\n",
    "    # fig.savefig('figure_00@.png', bbox_inches='tight', dpi=300)\n",
    "\n",
    "# plt.figure()\n",
    "interact(createSine, signal_frequency=(1,10), sampling_rate=(1,40))"
   ]
  },
  {
   "cell_type": "markdown",
   "metadata": {},
   "source": [
    "In this plot, notice how near the extremes of the $sin$ at $t=1/(4f)$ and $t=3/(4 f)$, we are taking the same density of points since the sampling theorem makes no requirement on *where* we should sample as long as we sample at a regular intervals. This means that on the up and down slopes of the $sin$, which are obviously linear-looking and where a linear approximation is a good one, we are taking the same density of samples as near the curvy peaks. Here's a bit of code that zooms in to the first peak to illustrate this."
   ]
  },
  {
   "cell_type": "code",
   "execution_count": 3,
   "metadata": {},
   "outputs": [
    {
     "data": {
      "application/vnd.jupyter.widget-view+json": {
       "model_id": "52a57508604d4a87ab18f953b8e874b1",
       "version_major": 2,
       "version_minor": 0
      },
      "text/plain": [
       "interactive(children=(IntSlider(value=1, description='signal_frequency', max=10, min=1), IntSlider(value=20, d…"
      ]
     },
     "metadata": {},
     "output_type": "display_data"
    },
    {
     "data": {
      "text/plain": [
       "<function __main__.pieceWise(signal_frequency=1.0, sampling_rate=20.0)>"
      ]
     },
     "execution_count": 3,
     "metadata": {},
     "output_type": "execute_result"
    }
   ],
   "source": [
    "def pieceWise(signal_frequency=1.0, sampling_rate=20.0):\n",
    "    f = signal_frequency\n",
    "    fs = sampling_rate\n",
    "    fig,ax = plt.subplots()\n",
    "    t = np.arange(-1,1+1/fs,1/fs) # sample interval, symmetric\n",
    "    x = np.sin(2*np.pi*f*t)\n",
    "    ax.plot(t,x,'o-')\n",
    "    ax.axis( xmin = 1/(4*f)-1/fs*3, xmax = 1/(4*f)+1/fs*3, ymin = 0, ymax = 1.1 )\n",
    "    # fig.savefig('figure_00@.png', bbox_inches='tight', dpi=300)\n",
    "    \n",
    "interact(pieceWise, signal_frequency=(1,10), sampling_rate=(1,40))"
   ]
  },
  {
   "cell_type": "markdown",
   "metadata": {},
   "source": [
    "To drive this point home (and create some cool matplotlib plots), we can construct the piecewise linear interpolant and compare the quality of the approximation using ``numpy.piecewise``:"
   ]
  },
  {
   "cell_type": "markdown",
   "metadata": {},
   "source": [
    "Now, we can examine the squared errors in the interpolant. The following snippet plots the $sin$ and with the filled-in error of the linear interpolant."
   ]
  },
  {
   "cell_type": "code",
   "execution_count": 4,
   "metadata": {},
   "outputs": [
    {
     "data": {
      "application/vnd.jupyter.widget-view+json": {
       "model_id": "da331aca4aff4b289cb8e6a80557730f",
       "version_major": 2,
       "version_minor": 0
      },
      "text/plain": [
       "interactive(children=(IntSlider(value=1, description='signal_frequency', max=10, min=1), IntSlider(value=1, de…"
      ]
     },
     "metadata": {},
     "output_type": "display_data"
    },
    {
     "data": {
      "text/plain": [
       "<function __main__.errorPiecewise(signal_frequency=1.0, sampling_rate=1, number_of_samples=40)>"
      ]
     },
     "execution_count": 4,
     "metadata": {},
     "output_type": "execute_result"
    }
   ],
   "source": [
    "def errorPiecewise(signal_frequency=1.0, sampling_rate=1, number_of_samples=40):\n",
    "    f = signal_frequency\n",
    "    fs = sampling_rate\n",
    "    l = number_of_samples\n",
    "    t=np.linspace(-fs,fs,l) # redefine this here for convenience\n",
    "    interval=[] # piecewise domains\n",
    "    apprx = []  # line on domains\n",
    "    # build up points *evenly* inside of intervals\n",
    "#     print(t)\n",
    "    x = np.sin(2*np.pi*f*t)\n",
    "    tp = np.hstack([ np.linspace(t[i],t[i+1],20,False) for i in range(len(t)-1) ])\n",
    "#     print(tp)\n",
    "    # construct arguments for piecewise2\n",
    "    for i in range(len(t)-1):\n",
    "        interval.append( np.logical_and(t[i] <= tp,tp < t[i+1]))\n",
    "        apprx.append( (x[i+1]-x[i])/(t[i+1]-t[i])*(tp[interval[-1]]-t[i]) + x[i])\n",
    "    x_hat = np.piecewise(tp,interval,apprx) # piecewise linear approximation\n",
    "\n",
    "    ax1 = plt.figure().add_subplot(111)\n",
    "    ax1.fill_between(tp,x_hat,np.sin(2*np.pi*f*tp),facecolor='red')\n",
    "    ax1.set_xlabel('time',fontsize=18)\n",
    "    ax1.set_ylabel('Amplitude',fontsize=18)\n",
    "    ax2 = ax1.twinx()\n",
    "    sqe = ( x_hat - np.sin(2*np.pi*f*tp))**2\n",
    "    ax2.plot(tp, sqe,'r')\n",
    "    ax2.axis(xmin=-1,ymax= sqe.max() )\n",
    "    ax2.set_ylabel('squared error', color='r',fontsize=18)\n",
    "    ax1.set_title('Errors with Piecewise Linear Interpolant')\n",
    "\n",
    "    # ax1.figure.savefig('figure_00@.png', bbox_inches='tight', dpi=300)\n",
    "\n",
    "interact(errorPiecewise, signal_frequency=(1,10), sampling_rate=(1,10), number_of_samples=(10,100,10))"
   ]
  },
  {
   "cell_type": "markdown",
   "metadata": {},
   "source": [
    "Note: I urge you to change the $fs$ sampling rate in the code above then rerun this notebook to see how these errors change with more/less sampling points."
   ]
  },
  {
   "cell_type": "markdown",
   "metadata": {},
   "source": [
    "Now, we could pursue this line of reasoning with higher-order polynomials instead of just straight lines, but this would all eventually take us to the same conclusion; namely, that all of these approximations improve as the density of sample points increases, which is the *exact* opposite of what the sampling theorem says --- there is *sparse* set of samples points that will retrieve the original function. Furthermore, we observed that the quality of the piecewise linear interpolation is sensitive to *where* the sample points are taken and the sampling theorem is so powerful that it *has no such requirement*. "
   ]
  },
  {
   "cell_type": "markdown",
   "metadata": {},
   "source": [
    "## Reconstruction"
   ]
  },
  {
   "cell_type": "markdown",
   "metadata": {},
   "source": [
    "Let's look at this another way by examing the Fourier Transform of a signal that is bandlimited and thus certainly satisfies the hypothesis of the sampling theorem:\n",
    "\n",
    "$ X(f) = 0$ where $ |f|> W $\n",
    "\n",
    "Now, the inverse Fourier transform of this is the following:\n",
    "    \n",
    "$ x(t) = \\int_{-W}^W X(f) e^{j 2 \\pi f t} df $\n",
    "\n",
    "We can take the $X(f)$ and expand it into a Fourier series by pretending that it is periodic with period $2 W$. Thus, we can formally write the following:\n",
    "    \n",
    "$$ X(f) = \\sum_k a_k e^{ - j 2 \\pi k f/(2 W) }  $$\n",
    "\n",
    "we can compute the coefficients $a_k$ as \n",
    "\n",
    "$$ a_k = \\frac{1}{2 W} \\int_{-W}^W X(f) e^{ j 2 \\pi k f/(2 W) } df   $$\n",
    "\n",
    "These coefficients bear a striking similarity to the $x(t)$ integral we just computed above. In fact, by lining up terms, we can write:\n",
    "\n",
    "$$ a_k = \\frac{1}{2 W} x \\left(   t = \\frac{k}{2 W} \\right)  $$\n",
    "\n",
    "Now, we can write out $X(f)$ in terms of this series and these $a_k$ and then invert the Fourier transform to obtain the following:\n",
    "\n",
    "$$ x(t) = \\int_{-W}^W \\sum_k a_k e^{ - j 2 \\pi k f/(2 W) }  e^{j 2 \\pi f t} df $$\n",
    "\n",
    "substitute for $a_k$\n",
    "    \n",
    "$$ x(t) = \\int_{-W}^W \\sum_k ( \\frac{1}{2 W} x( t = \\frac{k}{2 W} ) ) e^{ - j 2 \\pi k f/(2 W) }  e^{j 2 \\pi f t} df $$\n",
    "\n",
    "switch summation and integration (usually dangerous, but OK here)\n",
    "\n",
    "$$ x(t) = \\sum_k x(t = \\frac{k}{2 W}) \\frac{1}{2 W}  \\int_{-W}^W e^{ - j 2 \\pi k f/(2 W) +j 2 \\pi f t} df  $$\n",
    "\n",
    "which gives finally:\n",
    "\n",
    "$$ x(t) = \\sum_k x(t = \\frac{k}{2 W})  \\frac{sin(\\pi (k-2 t W))} {\\pi (k- 2 t W)} $$\n",
    "\n",
    "And this what we have been seeking! A formula that reconstructs the function from its samples. Let's try it!"
   ]
  },
  {
   "cell_type": "markdown",
   "metadata": {},
   "source": [
    "Note that since our samples are spaced at $t= k/f_s $, we'll use $  W= f_s /2 $ to line things up."
   ]
  },
  {
   "cell_type": "code",
   "execution_count": 5,
   "metadata": {},
   "outputs": [
    {
     "data": {
      "application/vnd.jupyter.widget-view+json": {
       "model_id": "198f94bad3fd485bb596cfe3386bc86f",
       "version_major": 2,
       "version_minor": 0
      },
      "text/plain": [
       "interactive(children=(IntSlider(value=20, description='fs', max=20, min=1), Output()), _dom_classes=('widget-i…"
      ]
     },
     "metadata": {},
     "output_type": "display_data"
    },
    {
     "data": {
      "text/plain": [
       "<function __main__.samplingRate(fs=20.0)>"
      ]
     },
     "execution_count": 5,
     "metadata": {},
     "output_type": "execute_result"
    }
   ],
   "source": [
    "def samplingRate(fs=20.0):\n",
    "    ax = plt.figure().add_subplot(111)\n",
    "    t = np.linspace(-1,1,100) # redefine this here for convenience\n",
    "    ts = np.arange(-1,1+1/fs,1/fs) # sample points\n",
    "    num_coeffs=len(ts) \n",
    "    sm=0\n",
    "    for k in range(-num_coeffs,num_coeffs): # since function is real, need both sides\n",
    "        sm+=np.sin(2*np.pi*(k/fs))*np.sinc( k - fs * t)\n",
    "    ax.plot( t,sm,'--',t,np.sin(2*np.pi*t),ts, np.sin(2*np.pi*ts),'o')\n",
    "    ax.set_title('sampling rate=%3.2f Hz' % fs )\n",
    "\n",
    "    # ax.figure.savefig('figure_00@.png', bbox_inches='tight', dpi=300)\n",
    "\n",
    "interact(samplingRate, fs=(1,20))"
   ]
  },
  {
   "cell_type": "markdown",
   "metadata": {},
   "source": [
    "We can do the same check as we did for the linear interpolant above as"
   ]
  },
  {
   "cell_type": "code",
   "execution_count": 6,
   "metadata": {},
   "outputs": [
    {
     "data": {
      "application/vnd.jupyter.widget-view+json": {
       "model_id": "3b960ae8bf404f02963d7845cf692c81",
       "version_major": 2,
       "version_minor": 0
      },
      "text/plain": [
       "interactive(children=(IntSlider(value=1, description='signal_frequency', max=10, min=1), IntSlider(value=20, d…"
      ]
     },
     "metadata": {},
     "output_type": "display_data"
    },
    {
     "data": {
      "text/plain": [
       "<function __main__.errorSinc(signal_frequency=1.0, sampling_rate=20.0)>"
      ]
     },
     "execution_count": 6,
     "metadata": {},
     "output_type": "execute_result"
    }
   ],
   "source": [
    "def errorSinc(signal_frequency=1.0, sampling_rate=20.0):\n",
    "    f = signal_frequency\n",
    "    fs = sampling_rate\n",
    "    \n",
    "    t = np.linspace(-1,1,100) # redefine this here for convenience\n",
    "    ts = np.arange(-1,1+1/fs,1/fs) # sample points\n",
    "    num_coeffs=len(ts) \n",
    "    sm=0\n",
    "    for k in range(-num_coeffs,num_coeffs): # since function is real, need both sides\n",
    "        sm+=np.sin(2*np.pi*(k/fs))*np.sinc( k - fs * t)\n",
    "    ax1 = plt.figure().add_subplot(111)\n",
    "    ax1.fill_between(t,sm,np.sin(2*np.pi*f*t),facecolor='red')\n",
    "    ax1.set_ylabel('Amplitude',fontsize=18)\n",
    "    ax2 = ax1.twinx()\n",
    "    sqe = (sm - np.sin(2*np.pi*f*t))**2\n",
    "    ax2.plot(t, sqe,'r')\n",
    "    ax2.axis(xmin=0,ymax = sqe.max())\n",
    "    ax2.set_ylabel('squared error', color='r',fontsize=18)\n",
    "    ax1.set_title('Errors with sinc Interpolant')\n",
    "\n",
    "    # ax1.figure.savefig('figure_00@.png', bbox_inches='tight', dpi=300)\n",
    "\n",
    "interact(errorSinc, signal_frequency=(1,10), sampling_rate=(1,100, 10))"
   ]
  },
  {
   "cell_type": "markdown",
   "metadata": {},
   "source": [
    "These interpolating functions are called the \"Whittaker\" interpolating functions. Let's examine these functions more closely with the following code"
   ]
  },
  {
   "cell_type": "code",
   "execution_count": 7,
   "metadata": {},
   "outputs": [
    {
     "data": {
      "application/vnd.jupyter.widget-view+json": {
       "model_id": "d27dbf24ebef413c91bffc30e36b8269",
       "version_major": 2,
       "version_minor": 0
      },
      "text/plain": [
       "interactive(children=(IntSlider(value=2, description='sampling_rate', max=10, min=1), Output()), _dom_classes=…"
      ]
     },
     "metadata": {},
     "output_type": "display_data"
    },
    {
     "data": {
      "text/plain": [
       "<function __main__.interpolation(sampling_rate=2.0)>"
      ]
     },
     "execution_count": 7,
     "metadata": {},
     "output_type": "execute_result"
    }
   ],
   "source": [
    "def interpolation(sampling_rate=2.0):\n",
    "    fs = sampling_rate\n",
    "    t = np.linspace(-1,1,100)\n",
    "    fig = plt.figure()\n",
    "    ax = fig.add_subplot(111) # create axis handle\n",
    "    k=0\n",
    "#     fs=2 # makes this plot easier to read\n",
    "    ax.plot (t,np.sinc( k - fs * t), \n",
    "             t,np.sinc( k+1 - fs * t),'--',k/fs,1,'o',(k)/fs,0,'o',\n",
    "             t,np.sinc( k-1 - fs * t),'--',k/fs,1,'o',(-k)/fs,0,'o'\n",
    "    )\n",
    "    ax.hlines(0,-1,1)\n",
    "    ax.vlines(0,-.2,1)\n",
    "    ax.annotate('sample value goes here',\n",
    "                xy=(0,1),\n",
    "                xytext=(-1+.1,1.1),\n",
    "                arrowprops={'facecolor':'red','shrink':0.05},\n",
    "                )\n",
    "    ax.annotate('no interference here',\n",
    "                xy=(0,0),\n",
    "                xytext=(-1+.1,0.5),\n",
    "                arrowprops={'facecolor':'green','shrink':0.05},\n",
    "                )\n",
    "\n",
    "    # fig.savefig('figure_00@.png', bbox_inches='tight', dpi=300)\n",
    "\n",
    "interact(interpolation, sampling_rate=(1,10))"
   ]
  },
  {
   "cell_type": "markdown",
   "metadata": {},
   "source": [
    "The vertical line in the previous plot shows that where one function has a peak, the other function has a zero. This is why when you put samples at each of the peaks, they match the sampled function exactly at those points. In between those points, the crown shape of the functions fills in the missing values. Furthermore, as the figure above shows, there is no interference between the functions sitting on each of the interpolating functions because the peak of one is perfectly aligned with the zero of the others (dotted lines). Thus, the sampling theorem says that the filled-in values are drawn from the curvature of the sinc functions, not straight lines as we investigated earlier. \n",
    "\n",
    "As an illustration, the following code shows how the individual Whittaker functions (dashed lines) are assembled into the final approximation  (black-line) using the given samples (blue-dots). I urge you to play with the sampling rate to see what happens. Note the heavy use of `numpy` broadcasting in this code instead of the multiple loops we used earlier."
   ]
  },
  {
   "cell_type": "code",
   "execution_count": 8,
   "metadata": {},
   "outputs": [
    {
     "data": {
      "application/vnd.jupyter.widget-view+json": {
       "model_id": "af02ba78e7754a77bcc7a69531ffae72",
       "version_major": 2,
       "version_minor": 0
      },
      "text/plain": [
       "interactive(children=(IntSlider(value=5, description='sampling_rate', max=10, min=1), Output()), _dom_classes=…"
      ]
     },
     "metadata": {},
     "output_type": "display_data"
    },
    {
     "data": {
      "text/plain": [
       "<function __main__.final_approximation(sampling_rate=5.0)>"
      ]
     },
     "execution_count": 8,
     "metadata": {},
     "output_type": "execute_result"
    }
   ],
   "source": [
    "def final_approximation(sampling_rate=5.0):\n",
    "    fs = sampling_rate\n",
    "    t = np.linspace(-1,1,100)\n",
    "#     fs=5.0 # sampling rate\n",
    "    k=np.array(sorted(set((t*fs).astype(int)))) # sorted coefficient list\n",
    "    fig,ax = plt.subplots()\n",
    "\n",
    "    ax.plot(t,(np.sin(2*np.pi*(k[:,None]/fs))*np.sinc(k[:,None]-fs*t)).T,'--', # individual whittaker functions\n",
    "            t,(np.sin(2*np.pi*(k[:,None]/fs))*np.sinc(k[:,None]-fs*t)).sum(axis=0),'k-', # whittaker interpolant\n",
    "         k/fs,np.sin(2*np.pi*k/fs),'ob')# samples\n",
    "    ax.set_xlabel('time',fontsize=14)\n",
    "    ax.axis((-1.1,1.1,-1.1,1.1));\n",
    "\n",
    "    # fig.savefig('figure_00@.png', bbox_inches='tight', dpi=300)\n",
    "\n",
    "interact(final_approximation, sampling_rate=(1,10))"
   ]
  },
  {
   "cell_type": "markdown",
   "metadata": {},
   "source": [
    "However, if you've been following carefully, you should be somewhat uncomfortable with the second to the last plot that shows the errors in the Whittaker interpolation. Namely, *why are there any errors*? Does not the sampling theorem guarantee exact-ness which should mean no error at all? It turns out that answering this question takes us further into the implications of the sampling theorem, but that is the topic of our next post.\n",
    "\n",
    "\n"
   ]
  },
  {
   "cell_type": "markdown",
   "metadata": {},
   "source": [
    "## Summary"
   ]
  },
  {
   "cell_type": "markdown",
   "metadata": {},
   "source": [
    "In this section, we started our investigation of the famous sampling theorem that is the bedrock of the entire field of signal processing and we asked if we could reverse-engineer the consquences of the sampling theorem by reconstructing a sampled function from its discrete samples. This led us to consider the famous *Whittaker interpolator*, whose proof we sketched here. However, after all this work, we came to a disturbing conclusion regarding the exact-ness of the sampling theorem that we will investigate in a subsequent posting.  In the meantime, I urge you to start at the top of notebook and play with the sampling frequency, and maybe even the sampled function and see what else you can discover about the sampling theorem."
   ]
  },
  {
   "cell_type": "markdown",
   "metadata": {},
   "source": [
    "## References"
   ]
  },
  {
   "cell_type": "markdown",
   "metadata": {},
   "source": [
    "\n",
    "* This is in the [IPython Notebook format](http://ipython.org/) and was converted to HTML using [nbconvert](https://github.com/ipython/nbconvert).\n",
    "\n",
    "* See [Signal analysis](http://books.google.com/books?id=Re5SAAAAMAAJ) for more detailed mathematical development.\n",
    "\n",
    "* The IPython Notebook corresponding to this post can be found [here](https://github.com/unpingco/Python-for-Signal-Processing/blob/master/Sampling_Theorem.ipynb)."
   ]
  },
  {
   "cell_type": "code",
   "execution_count": null,
   "metadata": {},
   "outputs": [],
   "source": []
  },
  {
   "cell_type": "code",
   "execution_count": null,
   "metadata": {},
   "outputs": [],
   "source": []
  },
  {
   "cell_type": "code",
   "execution_count": null,
   "metadata": {},
   "outputs": [],
   "source": []
  },
  {
   "cell_type": "code",
   "execution_count": null,
   "metadata": {},
   "outputs": [],
   "source": []
  },
  {
   "cell_type": "code",
   "execution_count": null,
   "metadata": {},
   "outputs": [],
   "source": []
  },
  {
   "cell_type": "code",
   "execution_count": null,
   "metadata": {},
   "outputs": [],
   "source": []
  },
  {
   "cell_type": "code",
   "execution_count": null,
   "metadata": {},
   "outputs": [],
   "source": []
  },
  {
   "cell_type": "code",
   "execution_count": null,
   "metadata": {},
   "outputs": [],
   "source": []
  },
  {
   "cell_type": "code",
   "execution_count": null,
   "metadata": {},
   "outputs": [],
   "source": []
  },
  {
   "cell_type": "code",
   "execution_count": null,
   "metadata": {},
   "outputs": [],
   "source": []
  },
  {
   "cell_type": "code",
   "execution_count": null,
   "metadata": {},
   "outputs": [],
   "source": []
  },
  {
   "cell_type": "code",
   "execution_count": null,
   "metadata": {},
   "outputs": [],
   "source": []
  },
  {
   "cell_type": "code",
   "execution_count": null,
   "metadata": {},
   "outputs": [],
   "source": []
  },
  {
   "cell_type": "code",
   "execution_count": null,
   "metadata": {},
   "outputs": [],
   "source": []
  },
  {
   "cell_type": "code",
   "execution_count": null,
   "metadata": {},
   "outputs": [],
   "source": []
  },
  {
   "cell_type": "code",
   "execution_count": null,
   "metadata": {},
   "outputs": [],
   "source": []
  },
  {
   "cell_type": "code",
   "execution_count": null,
   "metadata": {},
   "outputs": [],
   "source": []
  }
 ],
 "metadata": {
  "kernelspec": {
   "display_name": "Python 3",
   "language": "python",
   "name": "python3"
  },
  "language_info": {
   "codemirror_mode": {
    "name": "ipython",
    "version": 3
   },
   "file_extension": ".py",
   "mimetype": "text/x-python",
   "name": "python",
   "nbconvert_exporter": "python",
   "pygments_lexer": "ipython3",
   "version": "3.7.1"
  }
 },
 "nbformat": 4,
 "nbformat_minor": 1
}
